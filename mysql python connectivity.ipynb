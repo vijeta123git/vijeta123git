{
 "cells": [
  {
   "cell_type": "code",
   "execution_count": 4,
   "id": "979f99c4-f22c-4864-92a5-1c732aaa31dd",
   "metadata": {},
   "outputs": [
    {
     "name": "stdout",
     "output_type": "stream",
     "text": [
      "(101, 'vijeta', 19, 1)\n",
      "(102, 'anjali', 33, 2)\n",
      "(103, 'shivansh', 75, 3)\n",
      "(104, 'komal', 99, 4)\n",
      "(105, 'shivam', 4, 5)\n"
     ]
    }
   ],
   "source": [
    "import mysql.connector\n",
    "conn = mysql.connector.connect(\n",
    "    host = \"localhost\",\n",
    "    user = \"root\",\n",
    "    password = \"root\",\n",
    "    database = \"collage\",\n",
    ")\n",
    "cursor = conn.cursor()\n",
    "cursor.execute(\"select * from student\")\n",
    "myresult = cursor.fetchall()\n",
    "\n",
    "for x in myresult:\n",
    "    print(x)"
   ]
  },
  {
   "cell_type": "code",
   "execution_count": 5,
   "id": "ab6dbb02-fa9e-47ca-a4cb-5ff44667d739",
   "metadata": {},
   "outputs": [],
   "source": [
    "sql = \"INSERT INTO teacher (t_id,t_name,t_age,t_gender) values (%s,%s,%s,%s)\"\n",
    "val = (6,\"piyush\",20,\"m\")\n",
    "cursor.execute(sql,val)\n",
    "conn.commit()"
   ]
  },
  {
   "cell_type": "raw",
   "id": "5dac20d5-172b-4197-868e-5f427f158493",
   "metadata": {},
   "source": []
  },
  {
   "cell_type": "code",
   "execution_count": 9,
   "id": "b9efc8a5-01d4-4740-9cdc-8bc2f8935d9b",
   "metadata": {},
   "outputs": [
    {
     "name": "stdout",
     "output_type": "stream",
     "text": [
      "(1, 'praveen', 50, 'm')\n",
      "(2, 'rakesh', 55, 'm')\n",
      "(3, 'aashish', 100, 'm')\n",
      "(4, 'vikash', 80, 'm')\n",
      "(5, 'ajeet', 200, 'm')\n",
      "(6, 'piyush', 20, 'm')\n"
     ]
    }
   ],
   "source": [
    "cursor.execute(\"select * from teacher\")\n",
    "result = cursor.fetchall()\n",
    "\n",
    "for x in result:\n",
    "    print(x)"
   ]
  },
  {
   "cell_type": "code",
   "execution_count": null,
   "id": "6339f10a-624d-4151-afb5-55dd4cc83c87",
   "metadata": {},
   "outputs": [],
   "source": []
  }
 ],
 "metadata": {
  "kernelspec": {
   "display_name": "Python 3 (ipykernel)",
   "language": "python",
   "name": "python3"
  },
  "language_info": {
   "codemirror_mode": {
    "name": "ipython",
    "version": 3
   },
   "file_extension": ".py",
   "mimetype": "text/x-python",
   "name": "python",
   "nbconvert_exporter": "python",
   "pygments_lexer": "ipython3",
   "version": "3.8.10"
  }
 },
 "nbformat": 4,
 "nbformat_minor": 5
}
