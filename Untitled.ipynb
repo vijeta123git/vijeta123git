{
 "cells": [
  {
   "cell_type": "code",
   "execution_count": null,
   "id": "16d77245-1d40-49ba-976a-603c23c7269a",
   "metadata": {},
   "outputs": [],
   "source": [
    "import mysql.connector\n",
    "\n",
    "conn = mysql.connector(\n",
    "    host=\"localhost\",\n",
    "    user=\"root\"\n",
    "    "
   ]
  }
 ],
 "metadata": {
  "kernelspec": {
   "display_name": "",
   "name": ""
  },
  "language_info": {
   "name": ""
  }
 },
 "nbformat": 4,
 "nbformat_minor": 5
}
