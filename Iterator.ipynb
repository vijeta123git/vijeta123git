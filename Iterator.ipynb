{
 "cells": [
  {
   "cell_type": "code",
   "execution_count": 1,
   "id": "7be746d5-8349-4c95-9aa6-d31f2ca63b4e",
   "metadata": {},
   "outputs": [
    {
     "name": "stdout",
     "output_type": "stream",
     "text": [
      "<list_iterator object at 0x000002C6DC3AC370>\n"
     ]
    }
   ],
   "source": [
    "x=[10,20,30,40]\n",
    "y=iter(x)\n",
    "print(y)"
   ]
  },
  {
   "cell_type": "code",
   "execution_count": 3,
   "id": "504cf361-388b-4c4d-93b6-a433d6250f1e",
   "metadata": {},
   "outputs": [
    {
     "name": "stdout",
     "output_type": "stream",
     "text": [
      "10\n"
     ]
    }
   ],
   "source": [
    "print (next(y))"
   ]
  },
  {
   "cell_type": "code",
   "execution_count": 4,
   "id": "050f977a-b1c9-4b42-88ba-21666e628f1c",
   "metadata": {},
   "outputs": [
    {
     "name": "stdout",
     "output_type": "stream",
     "text": [
      "20\n"
     ]
    }
   ],
   "source": [
    "print (next(y))"
   ]
  },
  {
   "cell_type": "code",
   "execution_count": 6,
   "id": "281bce0e-d761-4479-9288-5db1d5ddab7b",
   "metadata": {},
   "outputs": [
    {
     "name": "stdout",
     "output_type": "stream",
     "text": [
      "57\n"
     ]
    }
   ],
   "source": [
    "z=35\n",
    "print(z+22)"
   ]
  },
  {
   "cell_type": "code",
   "execution_count": 7,
   "id": "141bddce-1106-431d-a218-2492c275bfb2",
   "metadata": {},
   "outputs": [
    {
     "name": "stdout",
     "output_type": "stream",
     "text": [
      "30\n"
     ]
    }
   ],
   "source": [
    "print (next(y))"
   ]
  },
  {
   "cell_type": "code",
   "execution_count": 8,
   "id": "c20108c7-3022-4671-b3a4-8fb95c08183b",
   "metadata": {},
   "outputs": [
    {
     "name": "stdout",
     "output_type": "stream",
     "text": [
      "40\n"
     ]
    }
   ],
   "source": [
    "print (next(y))"
   ]
  },
  {
   "cell_type": "code",
   "execution_count": 9,
   "id": "a085fbf7-bac9-4af3-855c-19a62113ee4a",
   "metadata": {},
   "outputs": [
    {
     "ename": "StopIteration",
     "evalue": "",
     "output_type": "error",
     "traceback": [
      "\u001b[1;31m---------------------------------------------------------------------------\u001b[0m",
      "\u001b[1;31mStopIteration\u001b[0m                             Traceback (most recent call last)",
      "Cell \u001b[1;32mIn[9], line 1\u001b[0m\n\u001b[1;32m----> 1\u001b[0m \u001b[38;5;28mprint\u001b[39m (\u001b[38;5;28;43mnext\u001b[39;49m\u001b[43m(\u001b[49m\u001b[43my\u001b[49m\u001b[43m)\u001b[49m)\n",
      "\u001b[1;31mStopIteration\u001b[0m: "
     ]
    }
   ],
   "source": [
    "print (next(y))"
   ]
  },
  {
   "cell_type": "code",
   "execution_count": null,
   "id": "4a83429f-ee34-4fc5-9f60-dc368d862d65",
   "metadata": {},
   "outputs": [],
   "source": []
  }
 ],
 "metadata": {
  "kernelspec": {
   "display_name": "Python 3 (ipykernel)",
   "language": "python",
   "name": "python3"
  },
  "language_info": {
   "codemirror_mode": {
    "name": "ipython",
    "version": 3
   },
   "file_extension": ".py",
   "mimetype": "text/x-python",
   "name": "python",
   "nbconvert_exporter": "python",
   "pygments_lexer": "ipython3",
   "version": "3.8.10"
  }
 },
 "nbformat": 4,
 "nbformat_minor": 5
}
